{
 "cells": [
  {
   "cell_type": "markdown",
   "id": "279718dc",
   "metadata": {},
   "source": [
    "# Intro Python\n",
    "\n",
    "## Lesson 1 - Basics"
   ]
  },
  {
   "cell_type": "markdown",
   "id": "00cf5b9f",
   "metadata": {},
   "source": [
    "Integers and Strings - different basic data types"
   ]
  },
  {
   "cell_type": "code",
   "execution_count": 12,
   "id": "8a2fee52",
   "metadata": {},
   "outputs": [
    {
     "data": {
      "text/plain": [
       "3"
      ]
     },
     "execution_count": 12,
     "metadata": {},
     "output_type": "execute_result"
    }
   ],
   "source": [
    "1+2"
   ]
  },
  {
   "cell_type": "code",
   "execution_count": 13,
   "id": "a415c4c9",
   "metadata": {},
   "outputs": [
    {
     "ename": "TypeError",
     "evalue": "can only concatenate str (not \"int\") to str",
     "output_type": "error",
     "traceback": [
      "\u001b[1;31m---------------------------------------------------\u001b[0m",
      "\u001b[1;31mTypeError\u001b[0m         Traceback (most recent call last)",
      "\u001b[1;32m<ipython-input-13-d79aeb9d3625>\u001b[0m in \u001b[0;36m<module>\u001b[1;34m\u001b[0m\n\u001b[1;32m----> 1\u001b[1;33m \u001b[1;34m\"Kid\"\u001b[0m\u001b[1;33m+\u001b[0m\u001b[1;36m2\u001b[0m\u001b[1;33m\u001b[0m\u001b[1;33m\u001b[0m\u001b[0m\n\u001b[0m",
      "\u001b[1;31mTypeError\u001b[0m: can only concatenate str (not \"int\") to str"
     ]
    }
   ],
   "source": [
    "\"Kid\"+2"
   ]
  },
  {
   "cell_type": "code",
   "execution_count": 16,
   "id": "fee08072",
   "metadata": {},
   "outputs": [
    {
     "name": "stdout",
     "output_type": "stream",
     "text": [
      "Kid1\n",
      "Kid1\n"
     ]
    }
   ],
   "source": [
    "print(\"Kid\"+\"1\")\n",
    "print(\"Kid\"+str(1))"
   ]
  },
  {
   "cell_type": "markdown",
   "id": "cc6c54a1",
   "metadata": {},
   "source": [
    "functions: give input and get output. The brackets are important"
   ]
  },
  {
   "cell_type": "code",
   "execution_count": 19,
   "id": "7a808c6b",
   "metadata": {},
   "outputs": [
    {
     "name": "stdout",
     "output_type": "stream",
     "text": [
      "Bread\n"
     ]
    }
   ],
   "source": [
    "print(\"Bread\")"
   ]
  },
  {
   "cell_type": "markdown",
   "id": "2a515ac5",
   "metadata": {},
   "source": [
    "List - a mix of elements "
   ]
  },
  {
   "cell_type": "code",
   "execution_count": 23,
   "id": "58d0bcf6",
   "metadata": {},
   "outputs": [],
   "source": [
    "exampleList = [1,2,3,4,\"Duck\"]"
   ]
  },
  {
   "cell_type": "code",
   "execution_count": 24,
   "id": "b5b83267",
   "metadata": {},
   "outputs": [
    {
     "data": {
      "text/plain": [
       "[1, 2, 3, 4, 'Duck']"
      ]
     },
     "execution_count": 24,
     "metadata": {},
     "output_type": "execute_result"
    }
   ],
   "source": [
    "exampleList"
   ]
  },
  {
   "cell_type": "code",
   "execution_count": 27,
   "id": "6af63574",
   "metadata": {},
   "outputs": [
    {
     "data": {
      "text/plain": [
       "'Duck'"
      ]
     },
     "execution_count": 27,
     "metadata": {},
     "output_type": "execute_result"
    }
   ],
   "source": [
    "exampleList[4]"
   ]
  },
  {
   "cell_type": "code",
   "execution_count": 28,
   "id": "b7aeaca1",
   "metadata": {},
   "outputs": [
    {
     "name": "stdout",
     "output_type": "stream",
     "text": [
      "[1, 2, 3, 4, 'Duck']\n"
     ]
    }
   ],
   "source": [
    "print(exampleList)"
   ]
  },
  {
   "cell_type": "markdown",
   "id": "e10c3f98",
   "metadata": {},
   "source": [
    "### Mixing it together"
   ]
  },
  {
   "cell_type": "code",
   "execution_count": 29,
   "id": "5b3f85de",
   "metadata": {},
   "outputs": [],
   "source": [
    "a=3\n",
    "b=4\n",
    "d=\"Duck\"\n",
    "f=6"
   ]
  },
  {
   "cell_type": "code",
   "execution_count": 30,
   "id": "0f6e85a4",
   "metadata": {},
   "outputs": [
    {
     "data": {
      "text/plain": [
       "'Duck'"
      ]
     },
     "execution_count": 30,
     "metadata": {},
     "output_type": "execute_result"
    }
   ],
   "source": [
    "d"
   ]
  },
  {
   "cell_type": "code",
   "execution_count": 32,
   "id": "6edc040a",
   "metadata": {},
   "outputs": [
    {
     "data": {
      "text/plain": [
       "'Duck'"
      ]
     },
     "execution_count": 32,
     "metadata": {},
     "output_type": "execute_result"
    }
   ],
   "source": [
    "exL2=[a,b,d,f]\n",
    "exL2[2]"
   ]
  },
  {
   "cell_type": "code",
   "execution_count": 37,
   "id": "7f535dbc",
   "metadata": {},
   "outputs": [
    {
     "ename": "TypeError",
     "evalue": "can't multiply sequence by non-int of type 'str'",
     "output_type": "error",
     "traceback": [
      "\u001b[1;31m---------------------------------------------------\u001b[0m",
      "\u001b[1;31mTypeError\u001b[0m         Traceback (most recent call last)",
      "\u001b[1;32m<ipython-input-37-02874bd9dcae>\u001b[0m in \u001b[0;36m<module>\u001b[1;34m\u001b[0m\n\u001b[0;32m      2\u001b[0m \u001b[0mb\u001b[0m\u001b[1;33m=\u001b[0m\u001b[1;34m\"Duck\"\u001b[0m\u001b[1;33m\u001b[0m\u001b[1;33m\u001b[0m\u001b[0m\n\u001b[0;32m      3\u001b[0m \u001b[1;33m\u001b[0m\u001b[0m\n\u001b[1;32m----> 4\u001b[1;33m \u001b[1;33m(\u001b[0m\u001b[0ma\u001b[0m\u001b[1;33m+\u001b[0m\u001b[0mb\u001b[0m\u001b[1;33m)\u001b[0m\u001b[1;33m/\u001b[0m\u001b[1;33m(\u001b[0m\u001b[0ma\u001b[0m\u001b[1;33m*\u001b[0m\u001b[0mb\u001b[0m\u001b[1;33m)\u001b[0m\u001b[1;33m\u001b[0m\u001b[1;33m\u001b[0m\u001b[0m\n\u001b[0m",
      "\u001b[1;31mTypeError\u001b[0m: can't multiply sequence by non-int of type 'str'"
     ]
    }
   ],
   "source": [
    "a=str(4)\n",
    "b=\"Duck\"\n",
    "\n",
    "(a+b)/(a*b)"
   ]
  },
  {
   "cell_type": "markdown",
   "id": "b4da3fff",
   "metadata": {},
   "source": [
    "## Excercise"
   ]
  },
  {
   "cell_type": "markdown",
   "id": "49a5a696",
   "metadata": {},
   "source": [
    "Make a list containing Variables of your Name and your 4 best friends names - and than you will select your name out of the List"
   ]
  }
 ],
 "metadata": {
  "kernelspec": {
   "display_name": "Python 3",
   "language": "python",
   "name": "python3"
  },
  "language_info": {
   "codemirror_mode": {
    "name": "ipython",
    "version": 3
   },
   "file_extension": ".py",
   "mimetype": "text/x-python",
   "name": "python",
   "nbconvert_exporter": "python",
   "pygments_lexer": "ipython3",
   "version": "3.8.8"
  }
 },
 "nbformat": 4,
 "nbformat_minor": 5
}
